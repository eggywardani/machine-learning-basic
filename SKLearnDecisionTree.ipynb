{
  "nbformat": 4,
  "nbformat_minor": 0,
  "metadata": {
    "colab": {
      "name": "SKLearnDecisionTree",
      "provenance": [],
      "collapsed_sections": [],
      "authorship_tag": "ABX9TyOyzPxSibO8uZ8AV0l7sqw2",
      "include_colab_link": true
    },
    "kernelspec": {
      "name": "python3",
      "display_name": "Python 3"
    }
  },
  "cells": [
    {
      "cell_type": "markdown",
      "metadata": {
        "id": "view-in-github",
        "colab_type": "text"
      },
      "source": [
        "<a href=\"https://colab.research.google.com/github/eggywardani/starter-machine-learning/blob/main/SKLearnDecisionTree.ipynb\" target=\"_parent\"><img src=\"https://colab.research.google.com/assets/colab-badge.svg\" alt=\"Open In Colab\"/></a>"
      ]
    },
    {
      "cell_type": "code",
      "metadata": {
        "id": "JkR5Caw5HtAG"
      },
      "source": [
        "from sklearn.tree import DecisionTreeClassifier\n",
        "import pandas as pd\n",
        "from sklearn.datasets import load_iris\n",
        "from sklearn.tree import export_graphviz\n",
        "\n",
        "iris = pd.read_csv('Iris.csv')\n",
        "iris.drop('Id', axis=1,inplace=True)\n",
        "x = iris[['SepalLengthCm', 'SepalWidthCm','PetalLengthCm','PetalWidthCm']]\n",
        "y = iris['Species']\n",
        "iris.head()\n",
        "\n",
        "tree_model = DecisionTreeClassifier()\n",
        "tree_model.fit(x, y)\n",
        "\n",
        "tree_model.predict([[6.2, 3.4, 5.4, 2.3]])\n",
        "\n",
        "export_graphviz(\n",
        "    tree_model,\n",
        "    out_file = \"Iris_tree.dot\",\n",
        "    feature_names = ['SepalLengthCm', 'SepalWidthCm', 'PetalLengthCm', 'PetalWidthCm'],\n",
        "    class_names = ['Iris-setosa', 'Iris-versicolor', 'Iris-virginica' ],\n",
        "    rounded= True,\n",
        "    filled =True\n",
        ")\n"
      ],
      "execution_count": 13,
      "outputs": []
    },
    {
      "cell_type": "markdown",
      "metadata": {
        "id": "LPuQ31lwI79P"
      },
      "source": [
        "# New Section"
      ]
    }
  ]
}